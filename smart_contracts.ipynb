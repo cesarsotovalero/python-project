{
 "cells": [
  {
   "cell_type": "code",
   "execution_count": 1,
   "metadata": {
    "pycharm": {
     "name": "#%%\n"
    }
   },
   "outputs": [],
   "source": [
    "import zipfile\n",
    "import os\n",
    "import matplotlib.pyplot as plt\n",
    "import numpy as np\n",
    "import pandas as pd\n",
    "import requests as req\n",
    "import seaborn as seab"
   ]
  },
  {
   "cell_type": "code",
   "execution_count": 2,
   "metadata": {
    "pycharm": {
     "name": "#%%\n"
    }
   },
   "outputs": [],
   "source": [
    "DATA_PATH = \"/Users/cesarsv/Documents/Courses/Computational Python/project/data\"\n",
    "DATA_URL = \"https://github.com/SAILResearch/replication-smart_contracts_overview/releases/download/v0.1/smart-contracts-Ethereum-metadata.zip\"\n",
    "\n",
    "\n",
    "def fetch_the_data(data_url=DATA_URL, data_path=DATA_PATH):\n",
    "    os.makedirs(data_path, exist_ok=True)\n",
    "    r = req.get(data_url, allow_redirects=True)\n",
    "    open(os.path.join(DATA_PATH, 'smart-contracts-Ethereum-metadata.zip'), 'wb').write(r.content)\n",
    "\n",
    "\n",
    "def extract_zip(zip_file=os.path.join(DATA_PATH, 'smart-contracts-Ethereum-metadata.zip')):\n",
    "    with zipfile.ZipFile(zip_file, 'r') as zip_ref:\n",
    "        zip_ref.extractall(DATA_PATH)\n",
    "\n",
    "\n",
    "def read_the_data(data_path=DATA_PATH):\n",
    "    csv_path = os.path.join(data_path, \"smart-contracts-Ethereum-metadata.zip\")\n",
    "    return pd.read_csv(csv_path)\n",
    "\n",
    "\n",
    "# Download the data\n",
    "# fetch_the_data()\n",
    "# print(\"data fetched\")\n",
    "# extract_zip()\n",
    "# print(\"data unzipped\")"
   ]
  },
  {
   "cell_type": "code",
   "execution_count": 3,
   "metadata": {
    "pycharm": {
     "is_executing": true,
     "name": "#%%\n"
    }
   },
   "outputs": [
    {
     "name": "stdout",
     "output_type": "stream",
     "text": [
      "data has been read\n"
     ]
    }
   ],
   "source": [
    "df = read_the_data()\n",
    "print(\"data has been read\")"
   ]
  },
  {
   "cell_type": "code",
   "execution_count": 4,
   "metadata": {
    "pycharm": {
     "name": "#%%\n"
    }
   },
   "outputs": [
    {
     "data": {
      "text/html": [
       "<div>\n",
       "<style scoped>\n",
       "    .dataframe tbody tr th:only-of-type {\n",
       "        vertical-align: middle;\n",
       "    }\n",
       "\n",
       "    .dataframe tbody tr th {\n",
       "        vertical-align: top;\n",
       "    }\n",
       "\n",
       "    .dataframe thead th {\n",
       "        text-align: right;\n",
       "    }\n",
       "</style>\n",
       "<table border=\"1\" class=\"dataframe\">\n",
       "  <thead>\n",
       "    <tr style=\"text-align: right;\">\n",
       "      <th></th>\n",
       "      <th>address</th>\n",
       "      <th>isERC20</th>\n",
       "      <th>isERC721</th>\n",
       "      <th>blockNumber</th>\n",
       "      <th>blockTimestamp</th>\n",
       "      <th>blockTimestampLastTx</th>\n",
       "      <th>numTx</th>\n",
       "      <th>token_symbol</th>\n",
       "      <th>token_name</th>\n",
       "      <th>token_decimals</th>\n",
       "      <th>...</th>\n",
       "      <th>cycloComplexity</th>\n",
       "      <th>name</th>\n",
       "      <th>cloc_blank</th>\n",
       "      <th>cloc_code</th>\n",
       "      <th>cloc_comment</th>\n",
       "      <th>cloc_comment_ratio</th>\n",
       "      <th>verified</th>\n",
       "      <th>dapp_name</th>\n",
       "      <th>dapp_details_category_csv</th>\n",
       "      <th>dapp_desc</th>\n",
       "    </tr>\n",
       "  </thead>\n",
       "  <tbody>\n",
       "    <tr>\n",
       "      <th>0</th>\n",
       "      <td>0x0000000000b3f879cb30fe243b4dfee438691c04</td>\n",
       "      <td>True</td>\n",
       "      <td>False</td>\n",
       "      <td>4292828</td>\n",
       "      <td>2017-09-19T23:54:47Z</td>\n",
       "      <td>2018-09-05T06:39:32Z</td>\n",
       "      <td>26726</td>\n",
       "      <td>GST2</td>\n",
       "      <td>Gastoken.io</td>\n",
       "      <td>2.0</td>\n",
       "      <td>...</td>\n",
       "      <td>19.0</td>\n",
       "      <td>GasToken2</td>\n",
       "      <td>50.0</td>\n",
       "      <td>167.0</td>\n",
       "      <td>115.0</td>\n",
       "      <td>0.407801</td>\n",
       "      <td>True</td>\n",
       "      <td>NaN</td>\n",
       "      <td>NaN</td>\n",
       "      <td>NaN</td>\n",
       "    </tr>\n",
       "    <tr>\n",
       "      <th>1</th>\n",
       "      <td>0x000000002647e16d9bab9e46604d75591d289277</td>\n",
       "      <td>True</td>\n",
       "      <td>False</td>\n",
       "      <td>5171436</td>\n",
       "      <td>2018-02-28T12:58:49Z</td>\n",
       "      <td>NaN</td>\n",
       "      <td>0</td>\n",
       "      <td>FV</td>\n",
       "      <td>FinneyVote</td>\n",
       "      <td>1.0</td>\n",
       "      <td>...</td>\n",
       "      <td>19.0</td>\n",
       "      <td>Vote</td>\n",
       "      <td>46.0</td>\n",
       "      <td>512.0</td>\n",
       "      <td>46.0</td>\n",
       "      <td>0.082437</td>\n",
       "      <td>True</td>\n",
       "      <td>NaN</td>\n",
       "      <td>NaN</td>\n",
       "      <td>NaN</td>\n",
       "    </tr>\n",
       "    <tr>\n",
       "      <th>2</th>\n",
       "      <td>0x000000002bb43c83ece652d161ad0fa862129a2c</td>\n",
       "      <td>False</td>\n",
       "      <td>False</td>\n",
       "      <td>5171439</td>\n",
       "      <td>2018-02-28T12:59:54Z</td>\n",
       "      <td>2018-09-06T11:51:36Z</td>\n",
       "      <td>43</td>\n",
       "      <td>NaN</td>\n",
       "      <td>NaN</td>\n",
       "      <td>NaN</td>\n",
       "      <td>...</td>\n",
       "      <td>19.0</td>\n",
       "      <td>AccountRegistry</td>\n",
       "      <td>46.0</td>\n",
       "      <td>512.0</td>\n",
       "      <td>46.0</td>\n",
       "      <td>0.082437</td>\n",
       "      <td>True</td>\n",
       "      <td>FinneyVote</td>\n",
       "      <td>Governance</td>\n",
       "      <td>A forum for controversy</td>\n",
       "    </tr>\n",
       "    <tr>\n",
       "      <th>3</th>\n",
       "      <td>0x000000005fbe2cc9b1b684ec445caf176042348e</td>\n",
       "      <td>False</td>\n",
       "      <td>False</td>\n",
       "      <td>5171001</td>\n",
       "      <td>2018-02-28T11:15:16Z</td>\n",
       "      <td>NaN</td>\n",
       "      <td>0</td>\n",
       "      <td>NaN</td>\n",
       "      <td>NaN</td>\n",
       "      <td>NaN</td>\n",
       "      <td>...</td>\n",
       "      <td>19.0</td>\n",
       "      <td>ProperProposal</td>\n",
       "      <td>46.0</td>\n",
       "      <td>512.0</td>\n",
       "      <td>46.0</td>\n",
       "      <td>0.082437</td>\n",
       "      <td>True</td>\n",
       "      <td>NaN</td>\n",
       "      <td>NaN</td>\n",
       "      <td>NaN</td>\n",
       "    </tr>\n",
       "    <tr>\n",
       "      <th>4</th>\n",
       "      <td>0x00000084d149ff195c35c1ffaca919cfa92cdffc</td>\n",
       "      <td>True</td>\n",
       "      <td>False</td>\n",
       "      <td>5487880</td>\n",
       "      <td>2018-04-22T20:42:25Z</td>\n",
       "      <td>NaN</td>\n",
       "      <td>0</td>\n",
       "      <td>OPM</td>\n",
       "      <td>OPIUM</td>\n",
       "      <td>18.0</td>\n",
       "      <td>...</td>\n",
       "      <td>NaN</td>\n",
       "      <td>NaN</td>\n",
       "      <td>NaN</td>\n",
       "      <td>NaN</td>\n",
       "      <td>NaN</td>\n",
       "      <td>NaN</td>\n",
       "      <td>False</td>\n",
       "      <td>NaN</td>\n",
       "      <td>NaN</td>\n",
       "      <td>NaN</td>\n",
       "    </tr>\n",
       "  </tbody>\n",
       "</table>\n",
       "<p>5 rows × 34 columns</p>\n",
       "</div>"
      ],
      "text/plain": [
       "                                      address  isERC20  isERC721  blockNumber  \\\n",
       "0  0x0000000000b3f879cb30fe243b4dfee438691c04     True     False      4292828   \n",
       "1  0x000000002647e16d9bab9e46604d75591d289277     True     False      5171436   \n",
       "2  0x000000002bb43c83ece652d161ad0fa862129a2c    False     False      5171439   \n",
       "3  0x000000005fbe2cc9b1b684ec445caf176042348e    False     False      5171001   \n",
       "4  0x00000084d149ff195c35c1ffaca919cfa92cdffc     True     False      5487880   \n",
       "\n",
       "         blockTimestamp  blockTimestampLastTx  numTx token_symbol  \\\n",
       "0  2017-09-19T23:54:47Z  2018-09-05T06:39:32Z  26726         GST2   \n",
       "1  2018-02-28T12:58:49Z                   NaN      0           FV   \n",
       "2  2018-02-28T12:59:54Z  2018-09-06T11:51:36Z     43          NaN   \n",
       "3  2018-02-28T11:15:16Z                   NaN      0          NaN   \n",
       "4  2018-04-22T20:42:25Z                   NaN      0          OPM   \n",
       "\n",
       "    token_name  token_decimals  ... cycloComplexity             name  \\\n",
       "0  Gastoken.io             2.0  ...            19.0        GasToken2   \n",
       "1   FinneyVote             1.0  ...            19.0             Vote   \n",
       "2          NaN             NaN  ...            19.0  AccountRegistry   \n",
       "3          NaN             NaN  ...            19.0   ProperProposal   \n",
       "4        OPIUM            18.0  ...             NaN              NaN   \n",
       "\n",
       "   cloc_blank  cloc_code  cloc_comment  cloc_comment_ratio  verified  \\\n",
       "0        50.0      167.0         115.0            0.407801      True   \n",
       "1        46.0      512.0          46.0            0.082437      True   \n",
       "2        46.0      512.0          46.0            0.082437      True   \n",
       "3        46.0      512.0          46.0            0.082437      True   \n",
       "4         NaN        NaN           NaN                 NaN     False   \n",
       "\n",
       "    dapp_name  dapp_details_category_csv                dapp_desc  \n",
       "0         NaN                        NaN                      NaN  \n",
       "1         NaN                        NaN                      NaN  \n",
       "2  FinneyVote                 Governance  A forum for controversy  \n",
       "3         NaN                        NaN                      NaN  \n",
       "4         NaN                        NaN                      NaN  \n",
       "\n",
       "[5 rows x 34 columns]"
      ]
     },
     "execution_count": 4,
     "metadata": {},
     "output_type": "execute_result"
    }
   ],
   "source": [
    "df.head()"
   ]
  },
  {
   "cell_type": "code",
   "execution_count": 5,
   "metadata": {
    "pycharm": {
     "name": "#%%\n"
    }
   },
   "outputs": [
    {
     "name": "stdout",
     "output_type": "stream",
     "text": [
      "<class 'pandas.core.frame.DataFrame'>\n",
      "RangeIndex: 1953337 entries, 0 to 1953336\n",
      "Data columns (total 34 columns):\n",
      " #   Column                     Dtype  \n",
      "---  ------                     -----  \n",
      " 0   address                    object \n",
      " 1   isERC20                    bool   \n",
      " 2   isERC721                   bool   \n",
      " 3   blockNumber                int64  \n",
      " 4   blockTimestamp             object \n",
      " 5   blockTimestampLastTx       object \n",
      " 6   numTx                      int64  \n",
      " 7   token_symbol               object \n",
      " 8   token_name                 object \n",
      " 9   token_decimals             float64\n",
      " 10  token_total_supply         object \n",
      " 11  ageDays                    float64\n",
      " 12  currentIdleTime            float64\n",
      " 13  cumsumTx                   int64  \n",
      " 14  cumPercentTx               float64\n",
      " 15  index                      int64  \n",
      " 16  indexPercent               float64\n",
      " 17  numInstructions            float64\n",
      " 18  numAssemblyBlocks          float64\n",
      " 19  numSubContracts            float64\n",
      " 20  numLibraries               float64\n",
      " 21  numLineComments            float64\n",
      " 22  numBlockComments           float64\n",
      " 23  loc                        float64\n",
      " 24  cycloComplexity            float64\n",
      " 25  name                       object \n",
      " 26  cloc_blank                 float64\n",
      " 27  cloc_code                  float64\n",
      " 28  cloc_comment               float64\n",
      " 29  cloc_comment_ratio         float64\n",
      " 30  verified                   bool   \n",
      " 31  dapp_name                  object \n",
      " 32  dapp_details_category_csv  object \n",
      " 33  dapp_desc                  object \n",
      "dtypes: bool(3), float64(17), int64(4), object(10)\n",
      "memory usage: 467.6+ MB\n"
     ]
    }
   ],
   "source": [
    "df.info()"
   ]
  },
  {
   "cell_type": "code",
   "execution_count": 6,
   "metadata": {
    "pycharm": {
     "name": "#%%\n"
    }
   },
   "outputs": [
    {
     "data": {
      "text/html": [
       "<div>\n",
       "<style scoped>\n",
       "    .dataframe tbody tr th:only-of-type {\n",
       "        vertical-align: middle;\n",
       "    }\n",
       "\n",
       "    .dataframe tbody tr th {\n",
       "        vertical-align: top;\n",
       "    }\n",
       "\n",
       "    .dataframe thead th {\n",
       "        text-align: right;\n",
       "    }\n",
       "</style>\n",
       "<table border=\"1\" class=\"dataframe\">\n",
       "  <thead>\n",
       "    <tr style=\"text-align: right;\">\n",
       "      <th></th>\n",
       "      <th>blockNumber</th>\n",
       "      <th>numTx</th>\n",
       "      <th>token_decimals</th>\n",
       "      <th>ageDays</th>\n",
       "      <th>currentIdleTime</th>\n",
       "      <th>cumsumTx</th>\n",
       "      <th>cumPercentTx</th>\n",
       "      <th>index</th>\n",
       "      <th>indexPercent</th>\n",
       "      <th>numInstructions</th>\n",
       "      <th>...</th>\n",
       "      <th>numSubContracts</th>\n",
       "      <th>numLibraries</th>\n",
       "      <th>numLineComments</th>\n",
       "      <th>numBlockComments</th>\n",
       "      <th>loc</th>\n",
       "      <th>cycloComplexity</th>\n",
       "      <th>cloc_blank</th>\n",
       "      <th>cloc_code</th>\n",
       "      <th>cloc_comment</th>\n",
       "      <th>cloc_comment_ratio</th>\n",
       "    </tr>\n",
       "  </thead>\n",
       "  <tbody>\n",
       "    <tr>\n",
       "      <th>count</th>\n",
       "      <td>1.953337e+06</td>\n",
       "      <td>1.953337e+06</td>\n",
       "      <td>89049.000000</td>\n",
       "      <td>1.953337e+06</td>\n",
       "      <td>634462.000000</td>\n",
       "      <td>1.953337e+06</td>\n",
       "      <td>1.953337e+06</td>\n",
       "      <td>1.953337e+06</td>\n",
       "      <td>1.953337e+06</td>\n",
       "      <td>42256.000000</td>\n",
       "      <td>...</td>\n",
       "      <td>42256.000000</td>\n",
       "      <td>42256.000000</td>\n",
       "      <td>42256.000000</td>\n",
       "      <td>42256.000000</td>\n",
       "      <td>42256.000000</td>\n",
       "      <td>42256.000000</td>\n",
       "      <td>42256.000000</td>\n",
       "      <td>42256.000000</td>\n",
       "      <td>42256.000000</td>\n",
       "      <td>42256.000000</td>\n",
       "    </tr>\n",
       "    <tr>\n",
       "      <th>mean</th>\n",
       "      <td>4.664285e+06</td>\n",
       "      <td>6.761551e+01</td>\n",
       "      <td>11.495536</td>\n",
       "      <td>2.956754e+02</td>\n",
       "      <td>245.118629</td>\n",
       "      <td>1.317839e+08</td>\n",
       "      <td>9.977892e+01</td>\n",
       "      <td>9.766690e+05</td>\n",
       "      <td>5.000003e+01</td>\n",
       "      <td>141.969756</td>\n",
       "      <td>...</td>\n",
       "      <td>4.333609</td>\n",
       "      <td>0.565222</td>\n",
       "      <td>15.863262</td>\n",
       "      <td>11.714194</td>\n",
       "      <td>326.325445</td>\n",
       "      <td>12.655173</td>\n",
       "      <td>55.637992</td>\n",
       "      <td>188.679738</td>\n",
       "      <td>82.007715</td>\n",
       "      <td>0.259418</td>\n",
       "    </tr>\n",
       "    <tr>\n",
       "      <th>std</th>\n",
       "      <td>9.786145e+05</td>\n",
       "      <td>9.497486e+03</td>\n",
       "      <td>8.503855</td>\n",
       "      <td>1.798492e+02</td>\n",
       "      <td>178.226607</td>\n",
       "      <td>1.471078e+06</td>\n",
       "      <td>1.113813e+00</td>\n",
       "      <td>5.638800e+05</td>\n",
       "      <td>2.886752e+01</td>\n",
       "      <td>154.111259</td>\n",
       "      <td>...</td>\n",
       "      <td>3.572579</td>\n",
       "      <td>0.714676</td>\n",
       "      <td>31.154598</td>\n",
       "      <td>19.543762</td>\n",
       "      <td>370.058443</td>\n",
       "      <td>23.193145</td>\n",
       "      <td>64.908607</td>\n",
       "      <td>214.459226</td>\n",
       "      <td>129.029535</td>\n",
       "      <td>0.165701</td>\n",
       "    </tr>\n",
       "    <tr>\n",
       "      <th>min</th>\n",
       "      <td>4.640200e+04</td>\n",
       "      <td>0.000000e+00</td>\n",
       "      <td>0.000000</td>\n",
       "      <td>6.481481e-04</td>\n",
       "      <td>0.000336</td>\n",
       "      <td>1.032449e+07</td>\n",
       "      <td>7.817090e+00</td>\n",
       "      <td>1.000000e+00</td>\n",
       "      <td>5.119444e-05</td>\n",
       "      <td>1.000000</td>\n",
       "      <td>...</td>\n",
       "      <td>0.000000</td>\n",
       "      <td>0.000000</td>\n",
       "      <td>0.000000</td>\n",
       "      <td>0.000000</td>\n",
       "      <td>1.000000</td>\n",
       "      <td>1.000000</td>\n",
       "      <td>0.000000</td>\n",
       "      <td>1.000000</td>\n",
       "      <td>0.000000</td>\n",
       "      <td>0.000000</td>\n",
       "    </tr>\n",
       "    <tr>\n",
       "      <th>25%</th>\n",
       "      <td>4.085693e+06</td>\n",
       "      <td>0.000000e+00</td>\n",
       "      <td>4.000000</td>\n",
       "      <td>1.939238e+02</td>\n",
       "      <td>103.296149</td>\n",
       "      <td>1.319297e+08</td>\n",
       "      <td>9.988936e+01</td>\n",
       "      <td>4.883350e+05</td>\n",
       "      <td>2.500004e+01</td>\n",
       "      <td>60.000000</td>\n",
       "      <td>...</td>\n",
       "      <td>2.000000</td>\n",
       "      <td>0.000000</td>\n",
       "      <td>2.000000</td>\n",
       "      <td>0.000000</td>\n",
       "      <td>119.000000</td>\n",
       "      <td>2.000000</td>\n",
       "      <td>18.000000</td>\n",
       "      <td>74.000000</td>\n",
       "      <td>16.000000</td>\n",
       "      <td>0.118421</td>\n",
       "    </tr>\n",
       "    <tr>\n",
       "      <th>50%</th>\n",
       "      <td>4.805711e+06</td>\n",
       "      <td>0.000000e+00</td>\n",
       "      <td>18.000000</td>\n",
       "      <td>2.616116e+02</td>\n",
       "      <td>245.796777</td>\n",
       "      <td>1.320759e+08</td>\n",
       "      <td>1.000000e+02</td>\n",
       "      <td>9.766690e+05</td>\n",
       "      <td>5.000003e+01</td>\n",
       "      <td>87.000000</td>\n",
       "      <td>...</td>\n",
       "      <td>3.000000</td>\n",
       "      <td>0.000000</td>\n",
       "      <td>8.000000</td>\n",
       "      <td>4.000000</td>\n",
       "      <td>211.000000</td>\n",
       "      <td>5.000000</td>\n",
       "      <td>34.000000</td>\n",
       "      <td>111.000000</td>\n",
       "      <td>43.000000</td>\n",
       "      <td>0.282051</td>\n",
       "    </tr>\n",
       "    <tr>\n",
       "      <th>75%</th>\n",
       "      <td>5.198188e+06</td>\n",
       "      <td>1.000000e+00</td>\n",
       "      <td>18.000000</td>\n",
       "      <td>4.134486e+02</td>\n",
       "      <td>361.114549</td>\n",
       "      <td>1.320759e+08</td>\n",
       "      <td>1.000000e+02</td>\n",
       "      <td>1.465003e+06</td>\n",
       "      <td>7.500001e+01</td>\n",
       "      <td>162.000000</td>\n",
       "      <td>...</td>\n",
       "      <td>5.000000</td>\n",
       "      <td>1.000000</td>\n",
       "      <td>16.000000</td>\n",
       "      <td>14.000000</td>\n",
       "      <td>374.000000</td>\n",
       "      <td>12.000000</td>\n",
       "      <td>65.000000</td>\n",
       "      <td>217.000000</td>\n",
       "      <td>94.000000</td>\n",
       "      <td>0.400000</td>\n",
       "    </tr>\n",
       "    <tr>\n",
       "      <th>max</th>\n",
       "      <td>6.333032e+06</td>\n",
       "      <td>1.032449e+07</td>\n",
       "      <td>255.000000</td>\n",
       "      <td>1.134804e+03</td>\n",
       "      <td>1134.214560</td>\n",
       "      <td>1.320759e+08</td>\n",
       "      <td>1.000000e+02</td>\n",
       "      <td>1.953337e+06</td>\n",
       "      <td>1.000000e+02</td>\n",
       "      <td>4923.000000</td>\n",
       "      <td>...</td>\n",
       "      <td>52.000000</td>\n",
       "      <td>9.000000</td>\n",
       "      <td>1413.000000</td>\n",
       "      <td>403.000000</td>\n",
       "      <td>11409.000000</td>\n",
       "      <td>542.000000</td>\n",
       "      <td>1846.000000</td>\n",
       "      <td>2791.000000</td>\n",
       "      <td>9347.000000</td>\n",
       "      <td>0.977209</td>\n",
       "    </tr>\n",
       "  </tbody>\n",
       "</table>\n",
       "<p>8 rows × 21 columns</p>\n",
       "</div>"
      ],
      "text/plain": [
       "        blockNumber         numTx  token_decimals       ageDays  \\\n",
       "count  1.953337e+06  1.953337e+06    89049.000000  1.953337e+06   \n",
       "mean   4.664285e+06  6.761551e+01       11.495536  2.956754e+02   \n",
       "std    9.786145e+05  9.497486e+03        8.503855  1.798492e+02   \n",
       "min    4.640200e+04  0.000000e+00        0.000000  6.481481e-04   \n",
       "25%    4.085693e+06  0.000000e+00        4.000000  1.939238e+02   \n",
       "50%    4.805711e+06  0.000000e+00       18.000000  2.616116e+02   \n",
       "75%    5.198188e+06  1.000000e+00       18.000000  4.134486e+02   \n",
       "max    6.333032e+06  1.032449e+07      255.000000  1.134804e+03   \n",
       "\n",
       "       currentIdleTime      cumsumTx  cumPercentTx         index  \\\n",
       "count    634462.000000  1.953337e+06  1.953337e+06  1.953337e+06   \n",
       "mean        245.118629  1.317839e+08  9.977892e+01  9.766690e+05   \n",
       "std         178.226607  1.471078e+06  1.113813e+00  5.638800e+05   \n",
       "min           0.000336  1.032449e+07  7.817090e+00  1.000000e+00   \n",
       "25%         103.296149  1.319297e+08  9.988936e+01  4.883350e+05   \n",
       "50%         245.796777  1.320759e+08  1.000000e+02  9.766690e+05   \n",
       "75%         361.114549  1.320759e+08  1.000000e+02  1.465003e+06   \n",
       "max        1134.214560  1.320759e+08  1.000000e+02  1.953337e+06   \n",
       "\n",
       "       indexPercent  numInstructions  ...  numSubContracts  numLibraries  \\\n",
       "count  1.953337e+06     42256.000000  ...     42256.000000  42256.000000   \n",
       "mean   5.000003e+01       141.969756  ...         4.333609      0.565222   \n",
       "std    2.886752e+01       154.111259  ...         3.572579      0.714676   \n",
       "min    5.119444e-05         1.000000  ...         0.000000      0.000000   \n",
       "25%    2.500004e+01        60.000000  ...         2.000000      0.000000   \n",
       "50%    5.000003e+01        87.000000  ...         3.000000      0.000000   \n",
       "75%    7.500001e+01       162.000000  ...         5.000000      1.000000   \n",
       "max    1.000000e+02      4923.000000  ...        52.000000      9.000000   \n",
       "\n",
       "       numLineComments  numBlockComments           loc  cycloComplexity  \\\n",
       "count     42256.000000      42256.000000  42256.000000     42256.000000   \n",
       "mean         15.863262         11.714194    326.325445        12.655173   \n",
       "std          31.154598         19.543762    370.058443        23.193145   \n",
       "min           0.000000          0.000000      1.000000         1.000000   \n",
       "25%           2.000000          0.000000    119.000000         2.000000   \n",
       "50%           8.000000          4.000000    211.000000         5.000000   \n",
       "75%          16.000000         14.000000    374.000000        12.000000   \n",
       "max        1413.000000        403.000000  11409.000000       542.000000   \n",
       "\n",
       "         cloc_blank     cloc_code  cloc_comment  cloc_comment_ratio  \n",
       "count  42256.000000  42256.000000  42256.000000        42256.000000  \n",
       "mean      55.637992    188.679738     82.007715            0.259418  \n",
       "std       64.908607    214.459226    129.029535            0.165701  \n",
       "min        0.000000      1.000000      0.000000            0.000000  \n",
       "25%       18.000000     74.000000     16.000000            0.118421  \n",
       "50%       34.000000    111.000000     43.000000            0.282051  \n",
       "75%       65.000000    217.000000     94.000000            0.400000  \n",
       "max     1846.000000   2791.000000   9347.000000            0.977209  \n",
       "\n",
       "[8 rows x 21 columns]"
      ]
     },
     "execution_count": 6,
     "metadata": {},
     "output_type": "execute_result"
    }
   ],
   "source": [
    "df.describe()"
   ]
  },
  {
   "cell_type": "code",
   "execution_count": 17,
   "metadata": {
    "pycharm": {
     "name": "#%%\n"
    }
   },
   "outputs": [
    {
     "data": {
      "image/png": "[encoded data removed]",
      "text/plain": [
       "<Figure size 432x288 with 1 Axes>"
      ]
     },
     "metadata": {
      "needs_background": "light"
     },
     "output_type": "display_data"
    }
   ],
   "source": [
    "# Lines of comments\n",
    "num_line_of_comments = df[\"numLineComments\"]\n",
    "plt.hist(num_line_of_comments, bins=500)\n",
    "plt.title(\"Histogram of lines of comments\")\n",
    "plt.xlabel(\"#lines\")\n",
    "plt.xlim((0,150))\n",
    "plt.show()"
   ]
  },
  {
   "cell_type": "code",
   "execution_count": 8,
   "metadata": {
    "pycharm": {
     "name": "#%%\n"
    }
   },
   "outputs": [
    {
     "data": {
      "image/png": "[encoded data removed]",
      "text/plain": [
       "<Figure size 432x288 with 1 Axes>"
      ]
     },
     "metadata": {
      "needs_background": "light"
     },
     "output_type": "display_data"
    }
   ],
   "source": [
    "# Lines of comments\n",
    "cyclomatic_complexity = df[\"cycloComplexity\"]\n",
    "plt.hist(cyclomatic_complexity, bins=200)\n",
    "plt.show()\n"
   ]
  },
  {
   "cell_type": "code",
   "execution_count": 18,
   "metadata": {
    "pycharm": {
     "name": "#%%\n"
    }
   },
   "outputs": [
    {
     "data": {
      "image/png": "[encoded data removed]",
      "text/plain": [
       "<Figure size 432x288 with 1 Axes>"
      ]
     },
     "metadata": {
      "needs_background": "light"
     },
     "output_type": "display_data"
    }
   ],
   "source": [
    "# Lines of comments\n",
    "num_libraries = df[\"numLibraries\"]\n",
    "plt.hist(num_libraries, bins=200)\n",
    "plt.show()"
   ]
  },
  {
   "cell_type": "code",
   "execution_count": 19,
   "metadata": {
    "pycharm": {
     "name": "#%%\n"
    }
   },
   "outputs": [
    {
     "name": "stdout",
     "output_type": "stream",
     "text": [
      "1402\n",
      "1371\n"
     ]
    }
   ],
   "source": [
    "print(df[\"dapp_name\"].count())\n",
    "print(df[\"dapp_details_category_csv\"].count())\n"
   ]
  },
  {
   "cell_type": "code",
   "execution_count": null,
   "metadata": {
    "pycharm": {
     "is_executing": true,
     "name": "#%%\n"
    }
   },
   "outputs": [],
   "source": [
    "plt.pie(df[\"verified\"])\n",
    "plt.show()\n"
   ]
  },
  {
   "cell_type": "code",
   "execution_count": 21,
   "metadata": {},
   "outputs": [
    {
     "data": {
      "text/plain": [
       "<AxesSubplot:ylabel='isERC20'>"
      ]
     },
     "execution_count": 21,
     "metadata": {},
     "output_type": "execute_result"
    },
    {
     "data": {
      "image/png": "[encoded data removed]",
      "text/plain": [
       "<Figure size 432x288 with 1 Axes>"
      ]
     },
     "metadata": {
      "needs_background": "light"
     },
     "output_type": "display_data"
    }
   ],
   "source": [
    "\n"
   ]
  },
  {
   "cell_type": "code",
   "execution_count": 37,
   "metadata": {},
   "outputs": [
    {
     "name": "stdout",
     "output_type": "stream",
     "text": [
      "1953337\n"
     ]
    },
    {
     "data": {
      "text/plain": [
       "<BarContainer object of 2 artists>"
      ]
     },
     "execution_count": 37,
     "metadata": {},
     "output_type": "execute_result"
    },
    {
     "data": {
      "image/png": "[encoded data removed]",
      "text/plain": [
       "<Figure size 432x288 with 1 Axes>"
      ]
     },
     "metadata": {
      "needs_background": "light"
     },
     "output_type": "display_data"
    }
   ],
   "source": [
    "print(df[\"isERC20\"].count())\n",
    "\n",
    "isERC20 = df.groupby(\"isERC20\").size()\n",
    "isERC20 = pd.DataFrame(isERC20).T\n",
    "isERC20\n",
    "plt.bar(height=isERC20.iloc[0,], x=[False, True])"
   ]
  },
  {
   "cell_type": "code",
   "execution_count": 46,
   "metadata": {},
   "outputs": [
    {
     "data": {
      "image/png": "[encoded data removed]",
      "text/plain": [
       "<Figure size 432x288 with 1 Axes>"
      ]
     },
     "metadata": {
      "needs_background": "light"
     },
     "output_type": "display_data"
    }
   ],
   "source": [
    "x = df.loc[:,\"loc\"].values\n",
    "x = x[np.logical_not(np.isnan(x))]\n",
    "plt.boxplot(x);\n",
    "# np.isnan(df.loc[:,\"loc\"].values)\n"
   ]
  },
  {
   "cell_type": "code",
   "execution_count": null,
   "metadata": {},
   "outputs": [],
   "source": []
  }
 ],
 "metadata": {
  "kernelspec": {
   "display_name": "Python 3 (ipykernel)",
   "language": "python",
   "name": "python3"
  },
  "language_info": {
   "codemirror_mode": {
    "name": "ipython",
    "version": 3
   },
   "file_extension": ".py",
   "mimetype": "text/x-python",
   "name": "python",
   "nbconvert_exporter": "python",
   "pygments_lexer": "ipython3",
   "version": "3.7.4"
  }
 },
 "nbformat": 4,
 "nbformat_minor": 1
}
